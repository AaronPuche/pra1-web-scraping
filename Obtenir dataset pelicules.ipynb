{
 "cells": [
  {
   "cell_type": "markdown",
   "metadata": {},
   "source": [
    "# Obtenir dataset pel·lícules"
   ]
  },
  {
   "cell_type": "markdown",
   "metadata": {},
   "source": [
    "En aquest codi anem a obtenir un dataset de pel·lícules.\n",
    "Realitzarem els següents passos:\n",
    "- Carregar llibreries.\n",
    "- Realitzar web scraping sobre la web https://www.themoviedb.org/movie/\n",
    "- Capturar el llistat de totes les pel·lícules i obtenir els enllaços\n",
    "- Accedir a cada pàgina de la pel·lícula i agafar les dades\n",
    "- Tractar aquestes dades i guardar-les en un dataset.\n",
    "- Visualitzar el dataset per veure si s'ha creat correctament."
   ]
  },
  {
   "cell_type": "markdown",
   "metadata": {},
   "source": [
    "### Carregar llibreries"
   ]
  },
  {
   "cell_type": "code",
   "execution_count": 1,
   "metadata": {},
   "outputs": [],
   "source": [
    "from selenium.webdriver.chrome.options import Options \n",
    "from selenium import webdriver\n",
    "\n",
    "from selenium.webdriver.common.action_chains import ActionChains\n",
    "from selenium.webdriver.common.keys import Keys\n",
    "\n",
    "from bs4 import BeautifulSoup\n",
    "import time\n",
    "import random\n",
    "import csv\n",
    "import pandas as pd\n",
    "\n",
    "import matplotlib as mpl\n",
    "import matplotlib.pyplot as plt"
   ]
  },
  {
   "cell_type": "markdown",
   "metadata": {},
   "source": [
    "### Iniciar consulta a la web"
   ]
  },
  {
   "cell_type": "code",
   "execution_count": 21,
   "metadata": {},
   "outputs": [],
   "source": [
    "url_base = \"https://www.themoviedb.org\"\n",
    "\n",
    "options = Options()\n",
    "# Afegirem l'opció --headless per a que s'execute en segon planol i no obriga el navegador\n",
    "options.add_argument(\"--headless\")\n",
    "\n",
    "# Buscarem les pelicules en la versio en espanyol de la web\n",
    "options.add_argument(\"--lang=es-ES\");\n",
    "\n",
    "driver = webdriver.Chrome(\"chromedriver.exe\", options=options)\n",
    "driver.get(url_base+\"/movie\")"
   ]
  },
  {
   "cell_type": "markdown",
   "metadata": {},
   "source": [
    "### Aplicar filtres\n",
    "\n",
    "Si volem, podem aplicar certs filtres per a l'obtenció d'un tipus de pel·lícules en concret"
   ]
  },
  {
   "cell_type": "code",
   "execution_count": 22,
   "metadata": {},
   "outputs": [],
   "source": [
    "# Obrir les pestanyes a l'esquerra per tal de fer la selecció dels filtres\n",
    "for item in driver.find_elements_by_xpath(\".//*[@class='filter_panel card closed']\"):\n",
    "    ActionChains(driver).move_to_element(item).click().perform()\n",
    "time.sleep(1)"
   ]
  },
  {
   "cell_type": "code",
   "execution_count": 24,
   "metadata": {},
   "outputs": [],
   "source": [
    "# Filtrar per gènere - Fem l'exemple amb el gènere 'Acción'\n",
    "accio = driver.find_element_by_link_text(\"Acción\")\n",
    "driver.execute_script(\"arguments[0].click();\", accio)"
   ]
  },
  {
   "cell_type": "code",
   "execution_count": 91,
   "metadata": {},
   "outputs": [],
   "source": [
    "# Filtrar per plataforma de streaming - Fem l'exemple amb Netflix\n",
    "Netflix = driver.find_element_by_xpath(\"//a[@title='Netflix']\")\n",
    "driver.execute_script(\"arguments[0].click();\", Netflix)"
   ]
  },
  {
   "cell_type": "markdown",
   "metadata": {},
   "source": [
    "Creem una funció per seleccionar una dade en el calendari popup"
   ]
  },
  {
   "cell_type": "code",
   "execution_count": 17,
   "metadata": {},
   "outputs": [],
   "source": [
    "# Funció per obtindre el mes en numero\n",
    "def get_mes_numero(mes):\n",
    "    mesos = [\"enero\", \"febrero\", \"marzo\", \"abril\", \"mayo\", \"junio\", \"julio\", \"agosto\", \"septiembre\", \"octubre\", \"noviembre\", \"diciembre\"]\n",
    "    return mesos.index(mes) + 1\n",
    "\n",
    "# Funció per buscar una dada en el calendari kendoDatePicker de la web\n",
    "def clic_data_calendari(driver_selenium, id_container, dia_objectiu, mes_objectiu, any_objectiu, posicio_calendari):\n",
    "    \n",
    "    # Fer clic per obrir el calendari\n",
    "    dada_input = driver.find_element_by_id(id_container)\n",
    "    next_sibling = driver.execute_script(\"return arguments[0].nextElementSibling\", dada_input)\n",
    "    driver.execute_script(\"arguments[0].click();\", next_sibling)\n",
    "    time.sleep(1)\n",
    "\n",
    "    # Obtindre els elements de següent i anterior mes\n",
    "    next_link = driver.find_elements_by_class_name(\"k-next-view\")[posicio_calendari]\n",
    "    prev_link = driver.find_elements_by_class_name(\"k-prev-view\")[posicio_calendari]\n",
    "\n",
    "    # Obtenim 'mes any' que será el indicador que estem en la vista adecuada del calendari\n",
    "    mes_any_objectiu = mes_objectiu + ' ' + any_objectiu\n",
    "    mes_objectiu_num = get_mes_numero(mes_objectiu)\n",
    "    \n",
    "    # Calculem les variables actuals del calendari de la web\n",
    "    mes_any_calendari = driver.find_elements_by_class_name(\"k-title\")[posicio_calendari].get_attribute(\"innerHTML\")\n",
    "    mes_calendari = mes_any_calendari.split()[0]\n",
    "    mes_calendari_num = get_mes_numero(mes_calendari)\n",
    "    any_calendari = mes_any_calendari.split()[1]\n",
    "    \n",
    "    # Anem desplazant el calendari fins trobar el mes corresponent\n",
    "    while(mes_any_calendari != mes_any_objectiu):\n",
    "        if(any_calendari == any_objectiu):\n",
    "            if(mes_calendari_num > mes_objectiu_num):\n",
    "                driver.execute_script(\"arguments[0].click();\", prev_link)\n",
    "                time.sleep(0.5)\n",
    "            else:\n",
    "                driver.execute_script(\"arguments[0].click();\", next_link)\n",
    "                time.sleep(0.5)\n",
    "        elif(int(any_calendari) > int(any_objectiu)):\n",
    "            clics_mesos = (int(any_calendari) - int(any_objectiu))*12\n",
    "            for i in range(clics_mesos):\n",
    "                driver.execute_script(\"arguments[0].click();\", prev_link)\n",
    "                time.sleep(0.5)\n",
    "        else:\n",
    "            clics_mesos = (int(any_objectiu) - int(any_calendari))*12\n",
    "            for i in range(clics_mesos):\n",
    "                driver.execute_script(\"arguments[0].click();\", next_link)\n",
    "                time.sleep(0.5)\n",
    "        \n",
    "        # Actualitzem els valors del calendari        \n",
    "        mes_any_calendari = driver.find_elements_by_class_name(\"k-title\")[posicio_calendari].get_attribute(\"innerHTML\")\n",
    "        mes_calendari = mes_any_calendari.split()[0]\n",
    "        mes_calendari_num = get_mes_numero(mes_calendari)\n",
    "        any_calendari = mes_any_calendari.split()[1]\n",
    "      \n",
    "    if(mes_any_calendari == mes_any_objectiu):\n",
    "        dia_container = driver.find_elements_by_link_text(dia_objectiu)[-1]\n",
    "        driver.execute_script(\"arguments[0].click();\", dia_container)"
   ]
  },
  {
   "cell_type": "code",
   "execution_count": 23,
   "metadata": {},
   "outputs": [],
   "source": [
    "# Clic en dada 'desde'\n",
    "clic_data_calendari(driver, 'release_date_gte', '1', 'enero', '2000', 0)\n",
    "time.sleep(1)\n",
    "\n",
    "# Clic en dada 'hasta'\n",
    "clic_data_calendari(driver, 'release_date_lte', '1', 'enero', '2005', 1)\n",
    "time.sleep(1)"
   ]
  },
  {
   "cell_type": "code",
   "execution_count": 25,
   "metadata": {},
   "outputs": [],
   "source": [
    "# Realitzar búsqueda\n",
    "time.sleep(1)\n",
    "buscar = driver.find_element_by_link_text(\"Buscar\")\n",
    "driver.execute_script(\"arguments[0].click();\", buscar)\n",
    "time.sleep(1)"
   ]
  },
  {
   "cell_type": "markdown",
   "metadata": {},
   "source": [
    "### Obtenir les pel·lícules del llistat.\n",
    "\n",
    "Utilitzarem Selenium per a interactuar amb la web\n",
    "\n",
    "Primer farem clic en \"Mostrar más\" i després anirem carregant les dades mitjançant l'scroll.\n",
    "\n",
    "Definim un maxim de vegades que farem scroll"
   ]
  },
  {
   "cell_type": "code",
   "execution_count": 26,
   "metadata": {},
   "outputs": [
    {
     "name": "stdout",
     "output_type": "stream",
     "text": [
      "End of page\n",
      "1560\n"
     ]
    }
   ],
   "source": [
    "# Fer click en \"Mostrar más\"\n",
    "element = driver.find_element_by_link_text(\"Mostrar más\") \n",
    "driver.execute_script(\"arguments[0].click();\", element)\n",
    "time.sleep(1)\n",
    "\n",
    "# Fer scroll per capturar dades conforme es van carregant\n",
    "url_single_movies = []\n",
    "max_iterations = 0\n",
    "iter=1\n",
    "while max_iterations < 2500:\n",
    "    scroll_height = driver.execute_script(\"return document.documentElement.scrollHeight\")\n",
    "    # A cada iteració anem augmentant l'scroll\n",
    "    height=4200*iter\n",
    "    driver.execute_script(\"window.scrollTo(0, \" + str(height) + \");\")\n",
    "    # Si hem arribat al final de la pàgina, parem el bucle\n",
    "    if height > scroll_height:\n",
    "        print('End of page')\n",
    "        break\n",
    "    time.sleep(random.randint(1, 2))\n",
    "    max_iterations+=1\n",
    "    iter+=1\n",
    "\n",
    "body = driver.execute_script(\"return document.body\")\n",
    "source = body.get_attribute('innerHTML') \n",
    "\n",
    "# Agafem les pelicules\n",
    "soup = BeautifulSoup(source, \"html.parser\")\n",
    "movies = soup.find_all(\"div\", {\"class\": \"card style_1\"})\n",
    "\n",
    "print(len(movies))"
   ]
  },
  {
   "cell_type": "markdown",
   "metadata": {},
   "source": [
    "### Obtenir informació individual de cada pel·lícula\n",
    "\n",
    "Primer recorrerem l'HTML obtingut i capturarem els enllaços a la fitxa de cada pel·lícula"
   ]
  },
  {
   "cell_type": "code",
   "execution_count": 27,
   "metadata": {},
   "outputs": [],
   "source": [
    "# Capturar els enllaços\n",
    "for movie in movies:\n",
    "    title = movie.h2.a[\"href\"] \n",
    "    url_single_movies.append(title)"
   ]
  },
  {
   "cell_type": "markdown",
   "metadata": {},
   "source": [
    "Creem algunes funcions auxiliars que ens ajudaran a tractar les dades de la fitxa. A més, si en un futur l'estructura de la pàgina que estem fent web scraping canvia, podem modificar més fàcilment la part que correspongui.\n",
    "\n",
    "Si no existeix algun valor retornarem \"?\" en tots els camps excepte amb \"Puntuación\" que retornarem un -1."
   ]
  },
  {
   "cell_type": "code",
   "execution_count": 28,
   "metadata": {},
   "outputs": [],
   "source": [
    "# Get Título\n",
    "def get_titulo(movie):\n",
    "    try:\n",
    "        return movie.find(\"h2\").a.contents[0]\n",
    "    except AttributeError:\n",
    "        return \"?\"\n",
    "\n",
    "# Get Título original\n",
    "def get_titulo_otiginal(movie):\n",
    "    try:\n",
    "        titulo_container = movie.find(\"p\", {\"class\": \"wrap\"}).get_text()\n",
    "        return titulo_container.split(\"Título original\", 1)[1]\n",
    "    except AttributeError:\n",
    "        return \"?\"\n",
    "\n",
    "# Get Idioma original\n",
    "def get_idioma_original(movie):\n",
    "    try:\n",
    "        idioma_container = movie.get_text().split(\"Idioma original\", 1)\n",
    "        return idioma_container[1].split(\"\\n\", 1)[0]\n",
    "    except AttributeError:\n",
    "        return \"?\"\n",
    "\n",
    "# Get Duración\n",
    "def get_duracion(movie):\n",
    "    try:\n",
    "        return movie.find(\"span\", {\"class\":\"runtime\"}).text.strip()\n",
    "    except AttributeError:\n",
    "        return \"?\"\n",
    "\n",
    "# Get Géneros\n",
    "def get_generos(movie):\n",
    "    try:\n",
    "        generos_container = movie.find(\"span\", {\"class\":\"genres\"}).find_all(\"a\")\n",
    "        generos_container = [generos_container[genre].text for genre in range(len(generos_container))]\n",
    "        return \", \".join(generos_container)\n",
    "    except AttributeError:\n",
    "        return \"?\"\n",
    "    \n",
    "# Get Directores\n",
    "def get_directores(movie):\n",
    "    try:\n",
    "        directores = []\n",
    "        people_container = movie.select(\"ol.people.no_image li\")\n",
    "        for people in people_container:\n",
    "            cargo = people.find(\"p\", {\"class\":\"character\"}).text\n",
    "            if \"Director\" in cargo:\n",
    "                directores.append(people.find(\"p\").text)\n",
    "        return \", \".join(directores)\n",
    "    except AttributeError:\n",
    "        return \"?\"\n",
    "\n",
    "# Get Sinopsis\n",
    "def get_sinopsis(movie):\n",
    "    try:\n",
    "        return movie.find_all(\"div\",{\"class\": \"overview\"})[0].text.strip()\n",
    "    except AttributeError:\n",
    "        return \"?\"\n",
    "\n",
    "# Get Fecha de estreno\n",
    "def get_fecha_estreno(movie):\n",
    "    try:\n",
    "        return movie.find(\"span\", {\"class\": \"release\"}).get_text().strip().split(\" \", 1)[0]\n",
    "    except AttributeError:\n",
    "        return \"?\"\n",
    "\n",
    "# Get Clasificación por edad\n",
    "def get_clasificacion_edad(movie):\n",
    "    try:\n",
    "        return movie.find(\"span\", {\"class\": \"certification\"}).get_text().strip()\n",
    "    except AttributeError:\n",
    "        return \"?\"\n",
    "\n",
    "# Get Imagen cartel\n",
    "def get_img_cartel(movie):\n",
    "    try:\n",
    "        return movie.find(\"img\").attrs['src']\n",
    "    except AttributeError:\n",
    "        return \"?\"\n",
    "\n",
    "# Get Puntiación\n",
    "def get_puntuacion(movie):\n",
    "    try:\n",
    "        return list(movie.find(\"span\",{\"class\":\"icon\"}).attrs.values())[0][1][-2:]\n",
    "    except AttributeError:\n",
    "        return -1\n",
    "    \n",
    "# Get Streaming\n",
    "def get_streaming(movie):\n",
    "    try:\n",
    "        streaming = movie.find(\"div\", {\"class\":\"provider\"}).find(\"img\").attrs['alt']\n",
    "        streaming = streaming.split(\" en \")\n",
    "        return streaming[-1]\n",
    "    except AttributeError:\n",
    "        return \"?\""
   ]
  },
  {
   "cell_type": "markdown",
   "metadata": {},
   "source": [
    "Obrim el fitxer csv on guardarem les dades obtingudes i escrivim la primera línea que sera el nom de les columnes"
   ]
  },
  {
   "cell_type": "code",
   "execution_count": 29,
   "metadata": {},
   "outputs": [
    {
     "data": {
      "text/plain": [
       "152"
      ]
     },
     "execution_count": 29,
     "metadata": {},
     "output_type": "execute_result"
    }
   ],
   "source": [
    "data_file = open('dataset_peliculas.csv', 'w', newline='', encoding='utf-8')\n",
    "csv_writer = csv.writer(data_file, delimiter=\";\") \n",
    "csv_writer.writerow([\"Título\",\"Título original\",\"Idioma original\",\"Duración\",\"Géneros\",\"Directores\",\"Sinopsis\",\"Fecha de estreno\",\"Clasificación por edad\",\"Imagen cartel\",\"Puntuación\", \"Streaming\"]) "
   ]
  },
  {
   "cell_type": "markdown",
   "metadata": {},
   "source": [
    "Accedim a la fitxa de cada pel·lícula i anem capturant les dades i guardant-les en el fitxer csv"
   ]
  },
  {
   "cell_type": "code",
   "execution_count": 30,
   "metadata": {},
   "outputs": [],
   "source": [
    "# Recorrem els enllaços obtinguts i anem obtinguent informació de cada pel·lícula\n",
    "for url_movie in url_single_movies:\n",
    "    driver.get(url_base+url_movie)\n",
    "    body = driver.execute_script(\"return document.body\")\n",
    "    source = body.get_attribute('innerHTML') \n",
    "    soup = BeautifulSoup(source, \"html.parser\")\n",
    "\n",
    "    # Contenidors de la informació que volem capturar\n",
    "    poster_wrapper = soup.find(\"div\", {\"class\": \"poster_wrapper\"})\n",
    "    header_wrapper = soup.find(\"div\", {\"class\": \"header_poster_wrapper\"})\n",
    "    column_wrapper = soup.find(\"section\", {\"class\": \"left_column\"})\n",
    "\n",
    "    movie =  [\n",
    "        get_titulo(header_wrapper), # Título\n",
    "        get_titulo_otiginal(column_wrapper), # Título original\n",
    "        get_idioma_original(column_wrapper), # Idioma original\n",
    "        get_duracion(header_wrapper), # Duración\n",
    "        get_generos(header_wrapper), # Géneros        \n",
    "        get_directores(header_wrapper), # Directores\n",
    "        get_sinopsis(header_wrapper), # Sinopsis\n",
    "        get_fecha_estreno(header_wrapper), # Fecha de estreno\n",
    "        get_clasificacion_edad(header_wrapper), # Clasificación por edad\n",
    "        url_base+get_img_cartel(poster_wrapper), # Imagen cartel\n",
    "        get_puntuacion(header_wrapper), # Puntuación \n",
    "        get_streaming(poster_wrapper) # Streaming\n",
    "    ]\n",
    "\n",
    "    csv_writer.writerow(movie)\n",
    "    \n",
    "    # Deixem entre 1 i 2 segons de pausa entre cada iteració per no saturar la web\n",
    "    time.sleep(random.randint(1, 2))"
   ]
  },
  {
   "cell_type": "markdown",
   "metadata": {},
   "source": [
    "Tanquem el fitxer csv"
   ]
  },
  {
   "cell_type": "code",
   "execution_count": 31,
   "metadata": {},
   "outputs": [],
   "source": [
    "data_file.close()"
   ]
  },
  {
   "cell_type": "markdown",
   "metadata": {},
   "source": [
    "Tanquem el driver de selenium"
   ]
  },
  {
   "cell_type": "code",
   "execution_count": 32,
   "metadata": {},
   "outputs": [],
   "source": [
    "driver.close()"
   ]
  },
  {
   "cell_type": "markdown",
   "metadata": {},
   "source": [
    "### Comprovació final\n",
    "\n",
    "Per comprovar que s'han guardat correctament, carreguem el csv en una variable i vegem els primers registres"
   ]
  },
  {
   "cell_type": "code",
   "execution_count": 33,
   "metadata": {},
   "outputs": [
    {
     "data": {
      "text/html": [
       "<div>\n",
       "<style scoped>\n",
       "    .dataframe tbody tr th:only-of-type {\n",
       "        vertical-align: middle;\n",
       "    }\n",
       "\n",
       "    .dataframe tbody tr th {\n",
       "        vertical-align: top;\n",
       "    }\n",
       "\n",
       "    .dataframe thead th {\n",
       "        text-align: right;\n",
       "    }\n",
       "</style>\n",
       "<table border=\"1\" class=\"dataframe\">\n",
       "  <thead>\n",
       "    <tr style=\"text-align: right;\">\n",
       "      <th></th>\n",
       "      <th>Título</th>\n",
       "      <th>Título original</th>\n",
       "      <th>Idioma original</th>\n",
       "      <th>Duración</th>\n",
       "      <th>Géneros</th>\n",
       "      <th>Directores</th>\n",
       "      <th>Sinopsis</th>\n",
       "      <th>Fecha de estreno</th>\n",
       "      <th>Clasificación por edad</th>\n",
       "      <th>Imagen cartel</th>\n",
       "      <th>Puntuación</th>\n",
       "      <th>Streaming</th>\n",
       "    </tr>\n",
       "  </thead>\n",
       "  <tbody>\n",
       "    <tr>\n",
       "      <th>0</th>\n",
       "      <td>Godzilla</td>\n",
       "      <td>?</td>\n",
       "      <td>Inglés</td>\n",
       "      <td>2h 18m</td>\n",
       "      <td>Ciencia ficción, Acción, Suspense</td>\n",
       "      <td>Roland Emmerich</td>\n",
       "      <td>Las pruebas nucleares realizadas por los franc...</td>\n",
       "      <td>28/8/1998</td>\n",
       "      <td>PG-13</td>\n",
       "      <td>https://www.themoviedb.org/t/p/w300_and_h450_b...</td>\n",
       "      <td>56</td>\n",
       "      <td>Netflix</td>\n",
       "    </tr>\n",
       "    <tr>\n",
       "      <th>1</th>\n",
       "      <td>Dragon Ball Z: Estalla el duelo</td>\n",
       "      <td>ドラゴンボールＺ 燃え尽きろ!!熱戦・烈戦・超激戦</td>\n",
       "      <td>Japonés</td>\n",
       "      <td>1h 12m</td>\n",
       "      <td>Animación, Ciencia ficción, Acción</td>\n",
       "      <td>Shigeyasu Yamauchi</td>\n",
       "      <td>Un desconocido saiyan, Paragus, llega a la Tie...</td>\n",
       "      <td>6/3/1993</td>\n",
       "      <td>PG</td>\n",
       "      <td>https://www.themoviedb.org/t/p/w300_and_h450_b...</td>\n",
       "      <td>72</td>\n",
       "      <td>?</td>\n",
       "    </tr>\n",
       "    <tr>\n",
       "      <th>2</th>\n",
       "      <td>Dragon Ball Z: Los mejores rivales</td>\n",
       "      <td>Doragon bôru Z 5: Tobikkiri no saikyô tai saikyô</td>\n",
       "      <td>Japonés</td>\n",
       "      <td>1h</td>\n",
       "      <td>Acción, Animación, Ciencia ficción</td>\n",
       "      <td>Mitsuo Hashimoto</td>\n",
       "      <td>Tras enterarse de la muerte de Freezer, Cooler...</td>\n",
       "      <td>20/7/1991</td>\n",
       "      <td>PG</td>\n",
       "      <td>https://www.themoviedb.org/t/p/w300_and_h450_b...</td>\n",
       "      <td>68</td>\n",
       "      <td>?</td>\n",
       "    </tr>\n",
       "    <tr>\n",
       "      <th>3</th>\n",
       "      <td>Dragon Ball Z: El más fuerte del mundo</td>\n",
       "      <td>ドラゴンボールZ この世で一番強いヤツ</td>\n",
       "      <td>Japonés</td>\n",
       "      <td>45m</td>\n",
       "      <td>Acción, Animación, Ciencia ficción</td>\n",
       "      <td>Daisuke Nishio</td>\n",
       "      <td>Shen Long es invocado por el Dr. Kochin, el cu...</td>\n",
       "      <td>26/5/1998</td>\n",
       "      <td>PG</td>\n",
       "      <td>https://www.themoviedb.org/t/p/w300_and_h450_b...</td>\n",
       "      <td>63</td>\n",
       "      <td>?</td>\n",
       "    </tr>\n",
       "    <tr>\n",
       "      <th>4</th>\n",
       "      <td>Dragon Ball Z: Los guerreros de plata</td>\n",
       "      <td>ドラゴンボールZ 銀河ギリギリ!! ぶっちぎりの凄い奴</td>\n",
       "      <td>Japonés</td>\n",
       "      <td>43m</td>\n",
       "      <td>Acción, Animación, Ciencia ficción</td>\n",
       "      <td>Yoshihiro Ueda</td>\n",
       "      <td>El rico Gyosan Money organiza un nuevo torneo ...</td>\n",
       "      <td>10/7/1993</td>\n",
       "      <td>12</td>\n",
       "      <td>https://www.themoviedb.org/t/p/w300_and_h450_b...</td>\n",
       "      <td>69</td>\n",
       "      <td>?</td>\n",
       "    </tr>\n",
       "    <tr>\n",
       "      <th>5</th>\n",
       "      <td>Dragon Ball Z: Guerreros de fuerza ilimitada</td>\n",
       "      <td>ドラゴンボールZ 激突!!100億パワーの戦士たち</td>\n",
       "      <td>Japonés</td>\n",
       "      <td>50m</td>\n",
       "      <td>Acción, Animación, Ciencia ficción</td>\n",
       "      <td>Daisuke Nishio</td>\n",
       "      <td>Cuando Dende, el nuevo kamisama, se entera de ...</td>\n",
       "      <td>13/8/2002</td>\n",
       "      <td>NR</td>\n",
       "      <td>https://www.themoviedb.org/t/p/w300_and_h450_b...</td>\n",
       "      <td>67</td>\n",
       "      <td>?</td>\n",
       "    </tr>\n",
       "    <tr>\n",
       "      <th>6</th>\n",
       "      <td>Dragon Ball Z: Los tres grandes Super Saiyans</td>\n",
       "      <td>ドラゴンボールＺ 極限バトル！三大超サイヤ人</td>\n",
       "      <td>Japonés</td>\n",
       "      <td>46m</td>\n",
       "      <td>Acción, Animación, Ciencia ficción</td>\n",
       "      <td>Daisuke Nishio</td>\n",
       "      <td>Décima película basada en el manga/anime de Ak...</td>\n",
       "      <td>11/7/1992</td>\n",
       "      <td>12</td>\n",
       "      <td>https://www.themoviedb.org/t/p/w300_and_h450_b...</td>\n",
       "      <td>66</td>\n",
       "      <td>?</td>\n",
       "    </tr>\n",
       "    <tr>\n",
       "      <th>7</th>\n",
       "      <td>Spy Kids</td>\n",
       "      <td>?</td>\n",
       "      <td>Inglés</td>\n",
       "      <td>1h 28m</td>\n",
       "      <td>Acción, Comedia, Familia, Aventura</td>\n",
       "      <td>Robert Rodriguez</td>\n",
       "      <td>Cuando el matrimonio Cortez -aparentes padres ...</td>\n",
       "      <td>18/3/2001</td>\n",
       "      <td>PG</td>\n",
       "      <td>https://www.themoviedb.org/t/p/w300_and_h450_b...</td>\n",
       "      <td>58</td>\n",
       "      <td>fuboTV</td>\n",
       "    </tr>\n",
       "    <tr>\n",
       "      <th>8</th>\n",
       "      <td>Dragon Ball Z: La super batalla</td>\n",
       "      <td>ドラゴンボールZ 地球まるごと超決戦</td>\n",
       "      <td>Japonés</td>\n",
       "      <td>1h</td>\n",
       "      <td>Acción, Animación, Ciencia ficción</td>\n",
       "      <td>Daisuke Nishio</td>\n",
       "      <td>Sexta película basada en el manga/anime de Aki...</td>\n",
       "      <td>7/6/1990</td>\n",
       "      <td>PG</td>\n",
       "      <td>https://www.themoviedb.org/t/p/w300_and_h450_b...</td>\n",
       "      <td>65</td>\n",
       "      <td>?</td>\n",
       "    </tr>\n",
       "    <tr>\n",
       "      <th>9</th>\n",
       "      <td>El señor de los anillos: La comunidad del anillo</td>\n",
       "      <td>The Lord of the Rings: The Fellowship of the ...</td>\n",
       "      <td>Inglés</td>\n",
       "      <td>2h 59m</td>\n",
       "      <td>Aventura, Fantasía, Acción</td>\n",
       "      <td>Peter Jackson</td>\n",
       "      <td>En la Tierra Media, el Señor Oscuro Saurón cre...</td>\n",
       "      <td>19/12/2001</td>\n",
       "      <td>12</td>\n",
       "      <td>https://www.themoviedb.org/t/p/w300_and_h450_b...</td>\n",
       "      <td>83</td>\n",
       "      <td>Movistar Plus</td>\n",
       "    </tr>\n",
       "  </tbody>\n",
       "</table>\n",
       "</div>"
      ],
      "text/plain": [
       "                                             Título  \\\n",
       "0                                          Godzilla   \n",
       "1                   Dragon Ball Z: Estalla el duelo   \n",
       "2                Dragon Ball Z: Los mejores rivales   \n",
       "3            Dragon Ball Z: El más fuerte del mundo   \n",
       "4             Dragon Ball Z: Los guerreros de plata   \n",
       "5      Dragon Ball Z: Guerreros de fuerza ilimitada   \n",
       "6     Dragon Ball Z: Los tres grandes Super Saiyans   \n",
       "7                                          Spy Kids   \n",
       "8                   Dragon Ball Z: La super batalla   \n",
       "9  El señor de los anillos: La comunidad del anillo   \n",
       "\n",
       "                                     Título original Idioma original Duración  \\\n",
       "0                                                  ?          Inglés   2h 18m   \n",
       "1                          ドラゴンボールＺ 燃え尽きろ!!熱戦・烈戦・超激戦         Japonés   1h 12m   \n",
       "2   Doragon bôru Z 5: Tobikkiri no saikyô tai saikyô         Japonés       1h   \n",
       "3                                ドラゴンボールZ この世で一番強いヤツ         Japonés      45m   \n",
       "4                        ドラゴンボールZ 銀河ギリギリ!! ぶっちぎりの凄い奴         Japonés      43m   \n",
       "5                          ドラゴンボールZ 激突!!100億パワーの戦士たち         Japonés      50m   \n",
       "6                             ドラゴンボールＺ 極限バトル！三大超サイヤ人         Japonés      46m   \n",
       "7                                                  ?          Inglés   1h 28m   \n",
       "8                                 ドラゴンボールZ 地球まるごと超決戦         Japonés       1h   \n",
       "9   The Lord of the Rings: The Fellowship of the ...          Inglés   2h 59m   \n",
       "\n",
       "                              Géneros          Directores  \\\n",
       "0   Ciencia ficción, Acción, Suspense     Roland Emmerich   \n",
       "1  Animación, Ciencia ficción, Acción  Shigeyasu Yamauchi   \n",
       "2  Acción, Animación, Ciencia ficción    Mitsuo Hashimoto   \n",
       "3  Acción, Animación, Ciencia ficción      Daisuke Nishio   \n",
       "4  Acción, Animación, Ciencia ficción      Yoshihiro Ueda   \n",
       "5  Acción, Animación, Ciencia ficción      Daisuke Nishio   \n",
       "6  Acción, Animación, Ciencia ficción      Daisuke Nishio   \n",
       "7  Acción, Comedia, Familia, Aventura    Robert Rodriguez   \n",
       "8  Acción, Animación, Ciencia ficción      Daisuke Nishio   \n",
       "9          Aventura, Fantasía, Acción       Peter Jackson   \n",
       "\n",
       "                                            Sinopsis Fecha de estreno  \\\n",
       "0  Las pruebas nucleares realizadas por los franc...        28/8/1998   \n",
       "1  Un desconocido saiyan, Paragus, llega a la Tie...         6/3/1993   \n",
       "2  Tras enterarse de la muerte de Freezer, Cooler...        20/7/1991   \n",
       "3  Shen Long es invocado por el Dr. Kochin, el cu...        26/5/1998   \n",
       "4  El rico Gyosan Money organiza un nuevo torneo ...        10/7/1993   \n",
       "5  Cuando Dende, el nuevo kamisama, se entera de ...        13/8/2002   \n",
       "6  Décima película basada en el manga/anime de Ak...        11/7/1992   \n",
       "7  Cuando el matrimonio Cortez -aparentes padres ...        18/3/2001   \n",
       "8  Sexta película basada en el manga/anime de Aki...         7/6/1990   \n",
       "9  En la Tierra Media, el Señor Oscuro Saurón cre...       19/12/2001   \n",
       "\n",
       "  Clasificación por edad                                      Imagen cartel  \\\n",
       "0                  PG-13  https://www.themoviedb.org/t/p/w300_and_h450_b...   \n",
       "1                     PG  https://www.themoviedb.org/t/p/w300_and_h450_b...   \n",
       "2                     PG  https://www.themoviedb.org/t/p/w300_and_h450_b...   \n",
       "3                     PG  https://www.themoviedb.org/t/p/w300_and_h450_b...   \n",
       "4                     12  https://www.themoviedb.org/t/p/w300_and_h450_b...   \n",
       "5                     NR  https://www.themoviedb.org/t/p/w300_and_h450_b...   \n",
       "6                     12  https://www.themoviedb.org/t/p/w300_and_h450_b...   \n",
       "7                     PG  https://www.themoviedb.org/t/p/w300_and_h450_b...   \n",
       "8                     PG  https://www.themoviedb.org/t/p/w300_and_h450_b...   \n",
       "9                     12  https://www.themoviedb.org/t/p/w300_and_h450_b...   \n",
       "\n",
       "  Puntuación      Streaming  \n",
       "0         56        Netflix  \n",
       "1         72              ?  \n",
       "2         68              ?  \n",
       "3         63              ?  \n",
       "4         69              ?  \n",
       "5         67              ?  \n",
       "6         66              ?  \n",
       "7         58         fuboTV  \n",
       "8         65              ?  \n",
       "9         83  Movistar Plus  "
      ]
     },
     "execution_count": 33,
     "metadata": {},
     "output_type": "execute_result"
    }
   ],
   "source": [
    "df_movies = pd.read_csv(\"dataset_peliculas.csv\", sep=\";\", encoding=\"utf-8\")\n",
    "df_movies.head(10)"
   ]
  },
  {
   "cell_type": "code",
   "execution_count": 34,
   "metadata": {},
   "outputs": [
    {
     "data": {
      "text/plain": [
       "1560"
      ]
     },
     "execution_count": 34,
     "metadata": {},
     "output_type": "execute_result"
    }
   ],
   "source": [
    "df_movies.shape[0]"
   ]
  },
  {
   "cell_type": "code",
   "execution_count": 35,
   "metadata": {
    "scrolled": true
   },
   "outputs": [
    {
     "data": {
      "text/plain": [
       "<BarContainer object of 19 artists>"
      ]
     },
     "execution_count": 35,
     "metadata": {},
     "output_type": "execute_result"
    },
    {
     "data": {
      "image/png": "[encoded data removed]",
      "text/plain": [
       "<Figure size 1440x720 with 1 Axes>"
      ]
     },
     "metadata": {
      "needs_background": "light"
     },
     "output_type": "display_data"
    }
   ],
   "source": [
    "params = {'xtick.labelsize': 17, 'ytick.labelsize': 12}\n",
    "mpl.rcParams.update(params)\n",
    "\n",
    "servicios_streaming = pd.value_counts(df_movies[\"Streaming\"])\n",
    "\n",
    "plt.figure(figsize=(20,10))\n",
    "plt.xticks(rotation=90)\n",
    "plt.bar(servicios_streaming.index, servicios_streaming)"
   ]
  }
 ],
 "metadata": {
  "kernelspec": {
   "display_name": "Python 3",
   "language": "python",
   "name": "python3"
  },
  "language_info": {
   "codemirror_mode": {
    "name": "ipython",
    "version": 3
   },
   "file_extension": ".py",
   "mimetype": "text/x-python",
   "name": "python",
   "nbconvert_exporter": "python",
   "pygments_lexer": "ipython3",
   "version": "3.8.5"
  }
 },
 "nbformat": 4,
 "nbformat_minor": 4
}
