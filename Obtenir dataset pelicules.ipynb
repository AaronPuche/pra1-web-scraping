{
 "cells": [
  {
   "cell_type": "markdown",
   "metadata": {},
   "source": [
    "# Obtenir dataset películes"
   ]
  },
  {
   "cell_type": "markdown",
   "metadata": {},
   "source": [
    "En aquest codi anem a obtenir un dataset de pelicules.\n",
    "Realitzarem els següents pasos:\n",
    "- Cargar llibreries.\n",
    "- Realitzar web scraping sobre la web https://www.themoviedb.org/movie/\n",
    "- Capturar el llistat de totes les pelicules i obtenir els enllaços\n",
    "- Accedir a cada pàgina de la pelìcula i agafar les dades\n",
    "- Tractar aquestes dades i guardar-les en un dataset.\n",
    "- Visualitzar el dataset per veure si s'ha creat correctament."
   ]
  },
  {
   "cell_type": "markdown",
   "metadata": {},
   "source": [
    "Cargar llibreries"
   ]
  },
  {
   "cell_type": "code",
   "execution_count": 107,
   "metadata": {},
   "outputs": [],
   "source": [
    "from selenium.webdriver.chrome.options import Options \n",
    "from selenium import webdriver\n",
    "from bs4 import BeautifulSoup\n",
    "import time\n",
    "import random\n",
    "import csv\n",
    "import pandas as pd"
   ]
  },
  {
   "cell_type": "markdown",
   "metadata": {},
   "source": [
    "Realitzar petició GET sobre la url indicada"
   ]
  },
  {
   "cell_type": "code",
   "execution_count": 98,
   "metadata": {},
   "outputs": [],
   "source": [
    "url_base = \"https://www.themoviedb.org\"\n",
    "\n",
    "options = Options()\n",
    "options.add_argument(\"--headless\")\n",
    "\n",
    "driver = webdriver.Chrome(\"chromedriver.exe\", options=options)\n",
    "driver.get(url_base+\"/movie\")\n",
    "#driver.maximize_window()"
   ]
  },
  {
   "cell_type": "markdown",
   "metadata": {},
   "source": [
    "Obtindre les pelicules del llistat.\n",
    "\n",
    "Primer fer clic en mostrar más i desprès anar carregant les dades mitjançant l'scroll."
   ]
  },
  {
   "cell_type": "code",
   "execution_count": 99,
   "metadata": {},
   "outputs": [
    {
     "name": "stdout",
     "output_type": "stream",
     "text": [
      "120\n"
     ]
    }
   ],
   "source": [
    "# Fer click en \"Mostrar más\"\n",
    "element = driver.find_element_by_link_text(\"Mostrar más\") \n",
    "driver.execute_script(\"arguments[0].click();\", element)\n",
    "time.sleep(1)\n",
    "\n",
    "# Fer scroll per capturar dades conforme es van carregant\n",
    "url_single_movies = []\n",
    "max_iterations = 0\n",
    "iter=1\n",
    "while max_iterations < 5:\n",
    "    scrollHeight = driver.execute_script(\"return document.documentElement.scrollHeight\")\n",
    "    #print(\"scrollHeight: \"+str(scrollHeight))\n",
    "    Height=4200*iter\n",
    "    #print(\"Height: \"+str(Height))\n",
    "    driver.execute_script(\"window.scrollTo(0, \" + str(Height) + \");\")\n",
    "    if Height > scrollHeight:\n",
    "        print('End of page')\n",
    "        break\n",
    "    time.sleep(random.randint(1, 3))\n",
    "    max_iterations+=1\n",
    "    #print(\"Max iterations: \"+str(max_iterations))\n",
    "    iter+=1\n",
    "    #print(\"iter: \"+str(iter))\n",
    "\n",
    "body = driver.execute_script(\"return document.body\")\n",
    "source = body.get_attribute('innerHTML') \n",
    "\n",
    "soup = BeautifulSoup(source, \"html.parser\")\n",
    "movies = soup.find_all(\"div\", {\"class\": \"card style_1\"})\n",
    "\n",
    "print(len(movies))"
   ]
  },
  {
   "cell_type": "markdown",
   "metadata": {},
   "source": [
    "Recorrer l'HTML obtingut i capturar els enllaços a la fitxa de cada pel·lícula"
   ]
  },
  {
   "cell_type": "code",
   "execution_count": 100,
   "metadata": {},
   "outputs": [
    {
     "name": "stdout",
     "output_type": "stream",
     "text": [
      "['/movie/527774', '/movie/587807', '/movie/484718', '/movie/458576', '/movie/464052', '/movie/587996', '/movie/581389', '/movie/793723', '/movie/602269', '/movie/775996', '/movie/649087', '/movie/613504', '/movie/522444', '/movie/630586', '/movie/651571', '/movie/604822', '/movie/590706', '/movie/560144', '/movie/791373', '/movie/755812', '/movie/529203', '/movie/581387', '/movie/508442', '/movie/495764', '/movie/664767', '/movie/399566', '/movie/786300', '/movie/539885', '/movie/577922', '/movie/682254', '/movie/553604', '/movie/599281', '/movie/38700', '/movie/621876', '/movie/520946', '/movie/644092', '/movie/475557', '/movie/531499', '/movie/631939', '/movie/607383', '/movie/299534', '/movie/373571', '/movie/621013', '/movie/299536', '/movie/666750', '/movie/582306', '/movie/615677', '/movie/737568', '/movie/384018', '/movie/545609', '/movie/400160', '/movie/338762', '/movie/741228', '/movie/714277', '/movie/765169', '/movie/512200', '/movie/283566', '/movie/531219', '/movie/461130', '/movie/749618', '/movie/506281', '/movie/601666', '/movie/335983', '/movie/337401', '/movie/20982', '/movie/583689', '/movie/595813', '/movie/429617', '/movie/778730', '/movie/592350', '/movie/723072', '/movie/443791', '/movie/290859', '/movie/732450', '/movie/662334', '/movie/581032', '/movie/509967', '/movie/9602', '/movie/439213', '/movie/340102', '/movie/489245', '/movie/458156', '/movie/611914', '/movie/659067', '/movie/700995', '/movie/544401', '/movie/741074', '/movie/594718', '/movie/299537', '/movie/565743', '/movie/687149', '/movie/581392', '/movie/399579', '/movie/509635', '/movie/595149', '/movie/743439', '/movie/596247', '/movie/575088', '/movie/141052', '/movie/618353', '/movie/614409', '/movie/715658', '/movie/695958', '/movie/587496', '/movie/581600', '/movie/453405', '/movie/320288', '/movie/427641', '/movie/181812', '/movie/578189', '/movie/675490', '/movie/531299', '/movie/784447', '/movie/447362', '/movie/412656', '/movie/345940', '/movie/466622', '/movie/347201', '/movie/571785', '/movie/560192']\n"
     ]
    }
   ],
   "source": [
    "# Capturar els enllaços de les págines individuals de les pàgines\n",
    "for movie in movies:\n",
    "    title = movie.h2.a[\"href\"] \n",
    "    url_single_movies.append(title)\n",
    "\n",
    "print(url_single_movies)"
   ]
  },
  {
   "cell_type": "markdown",
   "metadata": {},
   "source": [
    "Creem algunes funcions auxiliars que ens ajudaran a tractar les dades de la fitxa"
   ]
  },
  {
   "cell_type": "code",
   "execution_count": 73,
   "metadata": {},
   "outputs": [],
   "source": [
    "# Get directors    \n",
    "\n",
    "# Get link img cartell\n",
    "\n",
    "# Get Titol i Idioma original\n",
    "\n",
    "# Get año de estreno\n",
    "\n",
    "# Get Puntiación"
   ]
  },
  {
   "cell_type": "markdown",
   "metadata": {},
   "source": [
    "Obrim el fitxer csv on guardarem les dades obtingudes i escrivim la primera línea que sera el nom de les columnes"
   ]
  },
  {
   "cell_type": "code",
   "execution_count": 120,
   "metadata": {},
   "outputs": [
    {
     "data": {
      "text/plain": [
       "132"
      ]
     },
     "execution_count": 120,
     "metadata": {},
     "output_type": "execute_result"
    }
   ],
   "source": [
    "data_file = open('dataset_peliculas.csv', 'w', newline='', encoding='utf-8') \n",
    "csv_writer = csv.writer(data_file, delimiter=\";\") \n",
    "csv_writer.writerow([\"Título\",\"Título original\",\"Idioma original\",\"Duración\",\"Directores\",\"Sinopsis\",\"Año de estreno\",\"Clasificación por edad\",\"Imagen cartel\",\"Puntuación\"]) "
   ]
  },
  {
   "cell_type": "markdown",
   "metadata": {},
   "source": [
    "Accedim a la fitxa de cada pel·lícula i anem capturant les dades en format JSON per despres guardar-les més facilment en un archiu csv"
   ]
  },
  {
   "cell_type": "code",
   "execution_count": 121,
   "metadata": {},
   "outputs": [],
   "source": [
    "for url_movie in url_single_movies:\n",
    "    driver.get(url_base+url_movie)\n",
    "    body = driver.execute_script(\"return document.body\")\n",
    "    source = body.get_attribute('innerHTML') \n",
    "    soup = BeautifulSoup(source, \"html.parser\")\n",
    "\n",
    "    poster_wrapper = soup.find(\"div\", {\"class\": \"poster_wrapper\"})\n",
    "    header_wrapper = soup.find(\"div\", {\"class\": \"header_poster_wrapper\"})\n",
    "    column_wrapper = soup.find(\"div\", {\"class\": \"column \"})\n",
    "\n",
    "    movie =  [\n",
    "        header_wrapper.find(\"h2\").a.contents[0], # Título\n",
    "        \"Título original\", # Título original\n",
    "        \"Idioma original\", # Idioma original\n",
    "        \"Duración\", # Duración\n",
    "        \"Directores\", # Directores\n",
    "        \"Sinopsis\", # Sinopsis\n",
    "        header_wrapper.find(\"span\", {\"class\": \"release\"}).contents[0].strip(), # Año de estreno\n",
    "        \"Clasificación por edad\", # Clasificación por edad\n",
    "        \"Imagen cartel\", # Imagen cartel\n",
    "        \"Puntuación\" # Puntuación \n",
    "    ]\n",
    "\n",
    "    csv_writer.writerow(movie)\n",
    "    time.sleep(random.randint(1, 3))"
   ]
  },
  {
   "cell_type": "markdown",
   "metadata": {},
   "source": [
    "Tanquen el driver de selenium i el archiu csv"
   ]
  },
  {
   "cell_type": "code",
   "execution_count": 122,
   "metadata": {},
   "outputs": [],
   "source": [
    "data_file.close() "
   ]
  },
  {
   "cell_type": "markdown",
   "metadata": {},
   "source": [
    "Tanquem el driver de selenium"
   ]
  },
  {
   "cell_type": "code",
   "execution_count": null,
   "metadata": {},
   "outputs": [],
   "source": [
    "driver.close()"
   ]
  },
  {
   "cell_type": "markdown",
   "metadata": {},
   "source": [
    "Per comprovar que s'han guardat correctament, carreguem el csv en una variable i vegem els primers registres"
   ]
  },
  {
   "cell_type": "code",
   "execution_count": 126,
   "metadata": {},
   "outputs": [
    {
     "data": {
      "text/html": [
       "<div>\n",
       "<style scoped>\n",
       "    .dataframe tbody tr th:only-of-type {\n",
       "        vertical-align: middle;\n",
       "    }\n",
       "\n",
       "    .dataframe tbody tr th {\n",
       "        vertical-align: top;\n",
       "    }\n",
       "\n",
       "    .dataframe thead th {\n",
       "        text-align: right;\n",
       "    }\n",
       "</style>\n",
       "<table border=\"1\" class=\"dataframe\">\n",
       "  <thead>\n",
       "    <tr style=\"text-align: right;\">\n",
       "      <th></th>\n",
       "      <th>Título</th>\n",
       "      <th>Título original</th>\n",
       "      <th>Idioma original</th>\n",
       "      <th>Duración</th>\n",
       "      <th>Directores</th>\n",
       "      <th>Sinopsis</th>\n",
       "      <th>Año de estreno</th>\n",
       "      <th>Clasificación por edad</th>\n",
       "      <th>Imagen cartel</th>\n",
       "      <th>Puntuación</th>\n",
       "    </tr>\n",
       "  </thead>\n",
       "  <tbody>\n",
       "    <tr>\n",
       "      <th>0</th>\n",
       "      <td>Raya y el último dragón</td>\n",
       "      <td>Título original</td>\n",
       "      <td>Idioma original</td>\n",
       "      <td>Duración</td>\n",
       "      <td>Directores</td>\n",
       "      <td>Sinopsis</td>\n",
       "      <td>5/3/2021 (ES)</td>\n",
       "      <td>Clasificación por edad</td>\n",
       "      <td>Imagen cartel</td>\n",
       "      <td>Puntuación</td>\n",
       "    </tr>\n",
       "    <tr>\n",
       "      <th>1</th>\n",
       "      <td>Tom y Jerry</td>\n",
       "      <td>Título original</td>\n",
       "      <td>Idioma original</td>\n",
       "      <td>Duración</td>\n",
       "      <td>Directores</td>\n",
       "      <td>Sinopsis</td>\n",
       "      <td>26/2/2021 (US)</td>\n",
       "      <td>Clasificación por edad</td>\n",
       "      <td>Imagen cartel</td>\n",
       "      <td>Puntuación</td>\n",
       "    </tr>\n",
       "    <tr>\n",
       "      <th>2</th>\n",
       "      <td>El rey de Zamunda</td>\n",
       "      <td>Título original</td>\n",
       "      <td>Idioma original</td>\n",
       "      <td>Duración</td>\n",
       "      <td>Directores</td>\n",
       "      <td>Sinopsis</td>\n",
       "      <td>5/3/2021 (ES)</td>\n",
       "      <td>Clasificación por edad</td>\n",
       "      <td>Imagen cartel</td>\n",
       "      <td>Puntuación</td>\n",
       "    </tr>\n",
       "    <tr>\n",
       "      <th>3</th>\n",
       "      <td>Monster Hunter</td>\n",
       "      <td>Título original</td>\n",
       "      <td>Idioma original</td>\n",
       "      <td>Duración</td>\n",
       "      <td>Directores</td>\n",
       "      <td>Sinopsis</td>\n",
       "      <td>26/3/2021 (ES)</td>\n",
       "      <td>Clasificación por edad</td>\n",
       "      <td>Imagen cartel</td>\n",
       "      <td>Puntuación</td>\n",
       "    </tr>\n",
       "    <tr>\n",
       "      <th>4</th>\n",
       "      <td>Wonder Woman 1984</td>\n",
       "      <td>Título original</td>\n",
       "      <td>Idioma original</td>\n",
       "      <td>Duración</td>\n",
       "      <td>Directores</td>\n",
       "      <td>Sinopsis</td>\n",
       "      <td>18/12/2020 (ES)</td>\n",
       "      <td>Clasificación por edad</td>\n",
       "      <td>Imagen cartel</td>\n",
       "      <td>Puntuación</td>\n",
       "    </tr>\n",
       "    <tr>\n",
       "      <th>5</th>\n",
       "      <td>Bajocero</td>\n",
       "      <td>Título original</td>\n",
       "      <td>Idioma original</td>\n",
       "      <td>Duración</td>\n",
       "      <td>Directores</td>\n",
       "      <td>Sinopsis</td>\n",
       "      <td>29/1/2021 (ES)</td>\n",
       "      <td>Clasificación por edad</td>\n",
       "      <td>Imagen cartel</td>\n",
       "      <td>Puntuación</td>\n",
       "    </tr>\n",
       "    <tr>\n",
       "      <th>6</th>\n",
       "      <td>Barrenderos espaciales</td>\n",
       "      <td>Título original</td>\n",
       "      <td>Idioma original</td>\n",
       "      <td>Duración</td>\n",
       "      <td>Directores</td>\n",
       "      <td>Sinopsis</td>\n",
       "      <td>5/2/2021 (US)</td>\n",
       "      <td>Clasificación por edad</td>\n",
       "      <td>Imagen cartel</td>\n",
       "      <td>Puntuación</td>\n",
       "    </tr>\n",
       "    <tr>\n",
       "      <th>7</th>\n",
       "      <td>Centinela</td>\n",
       "      <td>Título original</td>\n",
       "      <td>Idioma original</td>\n",
       "      <td>Duración</td>\n",
       "      <td>Directores</td>\n",
       "      <td>Sinopsis</td>\n",
       "      <td>5/3/2021 (US)</td>\n",
       "      <td>Clasificación por edad</td>\n",
       "      <td>Imagen cartel</td>\n",
       "      <td>Puntuación</td>\n",
       "    </tr>\n",
       "    <tr>\n",
       "      <th>8</th>\n",
       "      <td>Pequeños detalles</td>\n",
       "      <td>Título original</td>\n",
       "      <td>Idioma original</td>\n",
       "      <td>Duración</td>\n",
       "      <td>Directores</td>\n",
       "      <td>Sinopsis</td>\n",
       "      <td>26/2/2021 (ES)</td>\n",
       "      <td>Clasificación por edad</td>\n",
       "      <td>Imagen cartel</td>\n",
       "      <td>Puntuación</td>\n",
       "    </tr>\n",
       "    <tr>\n",
       "      <th>9</th>\n",
       "      <td>A descubierto</td>\n",
       "      <td>Título original</td>\n",
       "      <td>Idioma original</td>\n",
       "      <td>Duración</td>\n",
       "      <td>Directores</td>\n",
       "      <td>Sinopsis</td>\n",
       "      <td>15/1/2021 (ES)</td>\n",
       "      <td>Clasificación por edad</td>\n",
       "      <td>Imagen cartel</td>\n",
       "      <td>Puntuación</td>\n",
       "    </tr>\n",
       "  </tbody>\n",
       "</table>\n",
       "</div>"
      ],
      "text/plain": [
       "                    Título  Título original  Idioma original  Duración  \\\n",
       "0  Raya y el último dragón  Título original  Idioma original  Duración   \n",
       "1              Tom y Jerry  Título original  Idioma original  Duración   \n",
       "2        El rey de Zamunda  Título original  Idioma original  Duración   \n",
       "3           Monster Hunter  Título original  Idioma original  Duración   \n",
       "4        Wonder Woman 1984  Título original  Idioma original  Duración   \n",
       "5                 Bajocero  Título original  Idioma original  Duración   \n",
       "6   Barrenderos espaciales  Título original  Idioma original  Duración   \n",
       "7                Centinela  Título original  Idioma original  Duración   \n",
       "8        Pequeños detalles  Título original  Idioma original  Duración   \n",
       "9            A descubierto  Título original  Idioma original  Duración   \n",
       "\n",
       "   Directores  Sinopsis   Año de estreno  Clasificación por edad  \\\n",
       "0  Directores  Sinopsis    5/3/2021 (ES)  Clasificación por edad   \n",
       "1  Directores  Sinopsis   26/2/2021 (US)  Clasificación por edad   \n",
       "2  Directores  Sinopsis    5/3/2021 (ES)  Clasificación por edad   \n",
       "3  Directores  Sinopsis   26/3/2021 (ES)  Clasificación por edad   \n",
       "4  Directores  Sinopsis  18/12/2020 (ES)  Clasificación por edad   \n",
       "5  Directores  Sinopsis   29/1/2021 (ES)  Clasificación por edad   \n",
       "6  Directores  Sinopsis    5/2/2021 (US)  Clasificación por edad   \n",
       "7  Directores  Sinopsis    5/3/2021 (US)  Clasificación por edad   \n",
       "8  Directores  Sinopsis   26/2/2021 (ES)  Clasificación por edad   \n",
       "9  Directores  Sinopsis   15/1/2021 (ES)  Clasificación por edad   \n",
       "\n",
       "   Imagen cartel  Puntuación  \n",
       "0  Imagen cartel  Puntuación  \n",
       "1  Imagen cartel  Puntuación  \n",
       "2  Imagen cartel  Puntuación  \n",
       "3  Imagen cartel  Puntuación  \n",
       "4  Imagen cartel  Puntuación  \n",
       "5  Imagen cartel  Puntuación  \n",
       "6  Imagen cartel  Puntuación  \n",
       "7  Imagen cartel  Puntuación  \n",
       "8  Imagen cartel  Puntuación  \n",
       "9  Imagen cartel  Puntuación  "
      ]
     },
     "execution_count": 126,
     "metadata": {},
     "output_type": "execute_result"
    }
   ],
   "source": [
    "df_movies = pd.read_csv(\"dataset_peliculas.csv\", sep=\";\", encoding=\"utf-8\")\n",
    "df_movies.head(10)"
   ]
  }
 ],
 "metadata": {
  "kernelspec": {
   "display_name": "Python 3",
   "language": "python",
   "name": "python3"
  },
  "language_info": {
   "codemirror_mode": {
    "name": "ipython",
    "version": 3
   },
   "file_extension": ".py",
   "mimetype": "text/x-python",
   "name": "python",
   "nbconvert_exporter": "python",
   "pygments_lexer": "ipython3",
   "version": "3.8.5"
  }
 },
 "nbformat": 4,
 "nbformat_minor": 4
}
